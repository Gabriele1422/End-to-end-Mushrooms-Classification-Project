{
 "cells": [
  {
   "cell_type": "code",
   "execution_count": 1,
   "id": "acdfd8bf",
   "metadata": {},
   "outputs": [
    {
     "data": {
      "text/plain": [
       "'c:\\\\Users\\\\gabri\\\\Desktop\\\\End-to-end-Mushrooms-Classification-Project\\\\research'"
      ]
     },
     "execution_count": 1,
     "metadata": {},
     "output_type": "execute_result"
    }
   ],
   "source": [
    "import os\n",
    "\n",
    "%pwd"
   ]
  },
  {
   "cell_type": "code",
   "execution_count": 2,
   "id": "1b915d0e",
   "metadata": {},
   "outputs": [],
   "source": [
    "os.chdir(\"../\")"
   ]
  },
  {
   "cell_type": "code",
   "execution_count": 3,
   "id": "2aafe25a",
   "metadata": {},
   "outputs": [],
   "source": [
    "from dataclasses import dataclass\n",
    "from pathlib import Path\n",
    "\n",
    "@dataclass(frozen=True)\n",
    "class DataIngestionConfig:\n",
    "    root_dir: Path\n",
    "    source_URL: str\n",
    "    local_data_file: Path\n",
    "    unzip_dir: Path\n",
    "\n",
    "\n",
    "\n"
   ]
  },
  {
   "cell_type": "code",
   "execution_count": 4,
   "id": "58a24e2a",
   "metadata": {},
   "outputs": [
    {
     "data": {
      "text/plain": [
       "'c:\\\\Users\\\\gabri\\\\Desktop\\\\End-to-end-Mushrooms-Classification-Project'"
      ]
     },
     "execution_count": 4,
     "metadata": {},
     "output_type": "execute_result"
    }
   ],
   "source": [
    "%pwd"
   ]
  },
  {
   "cell_type": "code",
   "execution_count": null,
   "id": "ae5b5a5d",
   "metadata": {},
   "outputs": [],
   "source": [
    "\n",
    "\n",
    "\n",
    "from cnnMushroomsClassifier.constants import CONFIG_FILE_PATH, PARAMS_FILE_PATH\n",
    "\n",
    "from cnnMushroomsClassifier.utils.common import read_yaml, create_directory\n",
    "\n",
    "\n",
    "class ConfigurationManager:\n",
    "    def __init__(self, config_filepath = CONFIG_FILE_PATH, params_filepath=PARAMS_FILE_PATH):\n",
    "        print(config_filepath)\n",
    "        self.config = read_yaml(config_filepath)\n",
    "        self.params = read_yaml(params_filepath)\n",
    "        \n",
    "        # Create the artifacts directory if doesn't exists\n",
    "        create_directory([self.config.artifacts_root])\n",
    "        \n",
    "    def get_data_ingestion_config(self) -> DataIngestionConfig:\n",
    "        config = self.config.data_ingestion \n",
    "\n",
    "        create_directory([config.root_dir])\n",
    "\n",
    "        data_ingestion = DataIngestionConfig(\n",
    "            root_dir = config.root_dir,\n",
    "            source_URL = config.source_URL,\n",
    "            local_data_file = config.local_data_file,\n",
    "            unzip_dir = config.unzip_dir\n",
    "            \n",
    "        )\n",
    "        return data_ingestion"
   ]
  },
  {
   "cell_type": "code",
   "execution_count": 6,
   "id": "7a72a1de",
   "metadata": {},
   "outputs": [],
   "source": [
    "import kagglehub\n",
    "import shutil\n",
    "from cnnMushroomsClassifier import logger\n",
    "import zipfile\n",
    "\n",
    "\n",
    "class DataIngestion:\n",
    "    def __init__(self, config : DataIngestionConfig):\n",
    "        self.config = config\n",
    "    \n",
    "    def download_dataset(self):\n",
    "        \"\"\"\n",
    "        Download the dataset from kaggle repository, and move it to artifacts folder.\n",
    "        \"\"\"\n",
    "        try:\n",
    "            source_url = self.config.source_URL\n",
    "            destination_dir = self.config.local_data_file\n",
    "            \n",
    "            path = kagglehub.dataset_download(source_url)\n",
    "            logger.info(f\"Successfully download the dataset in {path} folder.\")\n",
    "            \n",
    "            create_directory([destination_dir])\n",
    "                \n",
    "            shutil.move(path, destination_dir)\n",
    "            logger.info(f\"Successfully moved the dataset from {path} to {destination_dir}\")\n",
    "            \n",
    "        except Exception as e:\n",
    "            raise e\n",
    "\n",
    "\n",
    "    def extract_zip_file(self):\n",
    "        \"\"\"\n",
    "        Extract file from local directory and save in unzip directory\n",
    "        \"\"\"\n",
    "        \n",
    "        unzip_dir = self.config.unzip_dir\n",
    "        local_file = self.config.local_data_file\n",
    "        \n",
    "        create_directory([unzip_dir])\n",
    "        \n",
    "        with zipfile.ZipFile(local_file, \"r\") as fzip:\n",
    "            fzip.extractall(unzip_dir)"
   ]
  },
  {
   "cell_type": "code",
   "execution_count": 7,
   "id": "e5d86abb",
   "metadata": {},
   "outputs": [
    {
     "name": "stdout",
     "output_type": "stream",
     "text": [
      "config\\config.yaml\n",
      "C:\\Users\\gabri\\Desktop\\End-to-end-Mushrooms-Classification-Project\\config\\config.yaml\n",
      "[2025-09-06 10:47:58,061 : INFO: common: Yaml file C:\\Users\\gabri\\Desktop\\End-to-end-Mushrooms-Classification-Project\\config\\config.yaml loadel successfully.]\n",
      "C:\\Users\\gabri\\Desktop\\End-to-end-Mushrooms-Classification-Project\\params.yaml\n",
      "[2025-09-06 10:47:58,070 : INFO: common: Yaml file C:\\Users\\gabri\\Desktop\\End-to-end-Mushrooms-Classification-Project\\params.yaml loadel successfully.]\n",
      "[2025-09-06 10:47:58,075 : INFO: common: Create new directory artifacts]\n",
      "[2025-09-06 10:47:58,077 : INFO: common: Create new directory artifacts/data_ingestion]\n",
      "Downloading from https://www.kaggle.com/api/v1/datasets/download/maysee/mushrooms-classification-common-genuss-images?dataset_version_number=1...\n"
     ]
    },
    {
     "name": "stderr",
     "output_type": "stream",
     "text": [
      "100%|██████████| 1.85G/1.85G [00:56<00:00, 35.2MB/s]"
     ]
    },
    {
     "name": "stdout",
     "output_type": "stream",
     "text": [
      "Extracting files...\n"
     ]
    },
    {
     "name": "stderr",
     "output_type": "stream",
     "text": [
      "\n"
     ]
    },
    {
     "name": "stdout",
     "output_type": "stream",
     "text": [
      "[2025-09-06 10:49:05,960 : INFO: 2112458808: Successfully download the dataset in C:\\Users\\gabri\\.cache\\kagglehub\\datasets\\maysee\\mushrooms-classification-common-genuss-images\\versions\\1 folder.]\n",
      "[2025-09-06 10:49:05,960 : INFO: common: Create new directory artifacts/data_ingestion/data.zip]\n",
      "[2025-09-06 10:49:05,976 : INFO: 2112458808: Successfully moved the dataset from C:\\Users\\gabri\\.cache\\kagglehub\\datasets\\maysee\\mushrooms-classification-common-genuss-images\\versions\\1 to artifacts/data_ingestion/data.zip]\n",
      "[2025-09-06 10:49:05,976 : INFO: common: Create new directory artifacts/data_ingestion]\n",
      "[Errno 13] Permission denied: 'artifacts/data_ingestion/data.zip'\n"
     ]
    }
   ],
   "source": [
    "\n",
    "\n",
    "try:\n",
    "    config_manager = ConfigurationManager()\n",
    "    data_ingestion_conf = config_manager.get_data_ingestion_config()\n",
    "    data_ingestion = DataIngestion(config = data_ingestion_conf) \n",
    "    data_ingestion.download_dataset()\n",
    "    data_ingestion.extract_zip_file()\n",
    "    \n",
    "\n",
    "except Exception as e:\n",
    "    print(e)"
   ]
  }
 ],
 "metadata": {
  "kernelspec": {
   "display_name": "mushrooms",
   "language": "python",
   "name": "python3"
  },
  "language_info": {
   "codemirror_mode": {
    "name": "ipython",
    "version": 3
   },
   "file_extension": ".py",
   "mimetype": "text/x-python",
   "name": "python",
   "nbconvert_exporter": "python",
   "pygments_lexer": "ipython3",
   "version": "3.12.11"
  }
 },
 "nbformat": 4,
 "nbformat_minor": 5
}
